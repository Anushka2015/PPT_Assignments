{
 "cells": [
  {
   "cell_type": "markdown",
   "id": "b4bc9c61",
   "metadata": {},
   "source": [
    "<aside>\n",
    "💡 **Question 1**\n",
    "\n",
    "A permutation perm of n + 1 integers of all the integers in the range [0, n] can be represented as a string s of length n where:\n",
    "\n",
    "- s[i] == 'I' if perm[i] < perm[i + 1], and\n",
    "- s[i] == 'D' if perm[i] > perm[i + 1].\n",
    "\n",
    "Given a string s, reconstruct the permutation perm and return it. If there are multiple valid permutations perm, return **any of them**.\n",
    "\n",
    "**Example 1:**\n",
    "\n",
    "**Input:** s = \"IDID\"\n",
    "\n",
    "**Output:**\n",
    "\n",
    "[0,4,1,3,2]\n",
    "\n",
    "</aside>"
   ]
  },
  {
   "cell_type": "code",
   "execution_count": 2,
   "id": "8e1d824f",
   "metadata": {},
   "outputs": [
    {
     "name": "stdout",
     "output_type": "stream",
     "text": [
      "[0, 4, 1, 3, 2]\n"
     ]
    }
   ],
   "source": [
    "def findPermutation(s):\n",
    "    n = len(s)\n",
    "    perm = []\n",
    "    low, high = 0, n\n",
    "\n",
    "    for ch in s:\n",
    "        if ch == 'I':\n",
    "            perm.append(low)\n",
    "            low += 1\n",
    "        elif ch == 'D':\n",
    "            perm.append(high)\n",
    "            high -= 1\n",
    "\n",
    "    perm.append(low)  # or perm.append(high) since they are the same\n",
    "\n",
    "    return perm\n",
    "\n",
    "s = \"IDID\"\n",
    "print(findPermutation(s))\n"
   ]
  },
  {
   "cell_type": "markdown",
   "id": "a6e196ef",
   "metadata": {},
   "source": [
    "<aside>\n",
    "💡 **Question 2**\n",
    "\n",
    "You are given an m x n integer matrix matrix with the following two properties:\n",
    "\n",
    "- Each row is sorted in non-decreasing order.\n",
    "- The first integer of each row is greater than the last integer of the previous row.\n",
    "\n",
    "Given an integer target, return true *if* target *is in* matrix *or* false *otherwise*.\n",
    "\n",
    "You must write a solution in O(log(m * n)) time complexity.\n",
    "\n",
    "**Example 1:**\n",
    "\n",
    "</aside>"
   ]
  },
  {
   "cell_type": "code",
   "execution_count": 4,
   "id": "2d606fda",
   "metadata": {},
   "outputs": [
    {
     "name": "stdout",
     "output_type": "stream",
     "text": [
      "True\n"
     ]
    }
   ],
   "source": [
    "def searchMatrix(matrix, target):\n",
    "    m, n = len(matrix), len(matrix[0])\n",
    "    low, high = 0, m * n - 1\n",
    "\n",
    "    while low <= high:\n",
    "        mid = (low + high) // 2\n",
    "        row, col = mid // n, mid % n\n",
    "        if matrix[row][col] == target:\n",
    "            return True\n",
    "        elif matrix[row][col] < target:\n",
    "            low = mid + 1\n",
    "        else:\n",
    "            high = mid - 1\n",
    "\n",
    "    return False\n",
    "\n",
    "\n",
    "matrix = [\n",
    "    [1, 3, 5, 7],\n",
    "    [10, 11, 16, 20],\n",
    "    [23, 30, 34, 60]\n",
    "]\n",
    "target = 3\n",
    "print(searchMatrix(matrix, target))\n"
   ]
  },
  {
   "cell_type": "markdown",
   "id": "d077e12c",
   "metadata": {},
   "source": [
    "<aside>\n",
    "💡 **Question 3**\n",
    "\n",
    "Given an array of integers arr, return *true if and only if it is a valid mountain array*.\n",
    "\n",
    "Recall that arr is a mountain array if and only if:\n",
    "\n",
    "- arr.length >= 3\n",
    "- There exists some i with 0 < i < arr.length - 1 such that:\n",
    "    - arr[0] < arr[1] < ... < arr[i - 1] < arr[i]\n",
    "    - arr[i] > arr[i + 1] > ... > arr[arr.length - 1]\n",
    "</aside>"
   ]
  },
  {
   "cell_type": "code",
   "execution_count": 8,
   "id": "3e62b948",
   "metadata": {},
   "outputs": [
    {
     "name": "stdout",
     "output_type": "stream",
     "text": [
      "False\n"
     ]
    }
   ],
   "source": [
    "def validMountainArray(arr):\n",
    "    n = len(arr)\n",
    "    i = 0\n",
    "\n",
    "    while i + 1 < n and arr[i] < arr[i + 1]:\n",
    "        i += 1\n",
    "\n",
    "    if i == 0 or i == n - 1:\n",
    "        return False\n",
    "\n",
    "    while i + 1 < n and arr[i] > arr[i + 1]:\n",
    "        i += 1\n",
    "\n",
    "    return i == n - 1\n",
    "\n",
    "arr1 = [2,1]\n",
    "print(validMountainArray(arr1))  \n"
   ]
  },
  {
   "cell_type": "markdown",
   "id": "4441ccca",
   "metadata": {},
   "source": [
    "<aside>\n",
    "💡 **Question 4**\n",
    "\n",
    "Given a binary array nums, return *the maximum length of a contiguous subarray with an equal number of* 0 *and* 1.\n",
    "\n",
    "**Example 1:**\n",
    "\n",
    "**Input:** nums = [0,1]\n",
    "\n",
    "**Output:** 2\n",
    "\n",
    "**Explanation:**\n",
    "\n",
    "[0, 1] is the longest contiguous subarray with an equal number of 0 and 1.\n",
    "\n",
    "</aside>"
   ]
  },
  {
   "cell_type": "code",
   "execution_count": 9,
   "id": "e8ed4ad4",
   "metadata": {},
   "outputs": [],
   "source": [
    "def findMaxLength(nums):\n",
    "    maxLen = 0\n",
    "    count = 0\n",
    "    countDict = {0: -1}\n",
    "\n",
    "    for i, num in enumerate(nums):\n",
    "        if num == 1:\n",
    "            count += 1\n",
    "        else:\n",
    "            count -= 1\n",
    "\n",
    "        if count in countDict:\n",
    "            maxLen = max(maxLen, i - countDict[count])\n",
    "        else:\n",
    "            countDict[count] = i\n",
    "\n",
    "    return maxLen\n"
   ]
  },
  {
   "cell_type": "code",
   "execution_count": 10,
   "id": "f9597431",
   "metadata": {},
   "outputs": [
    {
     "name": "stdout",
     "output_type": "stream",
     "text": [
      "2\n"
     ]
    }
   ],
   "source": [
    "nums = [0, 1]\n",
    "print(findMaxLength(nums))\n"
   ]
  },
  {
   "cell_type": "markdown",
   "id": "6d518df4",
   "metadata": {},
   "source": [
    "<aside>\n",
    "💡 **Question 5**\n",
    "\n",
    "The **product sum** of two equal-length arrays a and b is equal to the sum of a[i] * b[i] for all 0 <= i < a.length (**0-indexed**).\n",
    "\n",
    "- For example, if a = [1,2,3,4] and b = [5,2,3,1], the **product sum** would be 1*5 + 2*2 + 3*3 + 4*1 = 22.\n",
    "\n",
    "Given two arrays nums1 and nums2 of length n, return *the **minimum product sum** if you are allowed to **rearrange** the **order** of the elements in* nums1.\n",
    "\n",
    "**Example 1:**\n",
    "\n",
    "**Input:** nums1 = [5,3,4,2], nums2 = [4,2,2,5]\n",
    "\n",
    "**Output:** 40\n",
    "\n",
    "**Explanation:**\n",
    "\n",
    "We can rearrange nums1 to become [3,5,4,2]. The product sum of [3,5,4,2] and [4,2,2,5] is 3*4 + 5*2 + 4*2 + 2*5 = 40.\n",
    "\n",
    "</aside>"
   ]
  },
  {
   "cell_type": "code",
   "execution_count": 11,
   "id": "0bc63d18",
   "metadata": {},
   "outputs": [],
   "source": [
    "def minProductSum(nums1, nums2):\n",
    "    nums1.sort()\n",
    "    nums2.sort(reverse=True)\n",
    "\n",
    "    minProductSum = 0\n",
    "    n = len(nums1)\n",
    "\n",
    "    for i in range(n):\n",
    "        minProductSum += nums1[i] * nums2[i]\n",
    "\n",
    "    return minProductSum\n"
   ]
  },
  {
   "cell_type": "code",
   "execution_count": 12,
   "id": "04285a25",
   "metadata": {},
   "outputs": [
    {
     "name": "stdout",
     "output_type": "stream",
     "text": [
      "40\n"
     ]
    }
   ],
   "source": [
    "nums1 = [5, 3, 4, 2]\n",
    "nums2 = [4, 2, 2, 5]\n",
    "print(minProductSum(nums1, nums2))\n"
   ]
  },
  {
   "cell_type": "markdown",
   "id": "1a924942",
   "metadata": {},
   "source": [
    "<aside>\n",
    "💡 **Question 6**\n",
    "\n",
    "An integer array original is transformed into a **doubled** array changed by appending **twice the value** of every element in original, and then randomly **shuffling** the resulting array.\n",
    "\n",
    "Given an array changed, return original *if* changed *is a **doubled** array. If* changed *is not a **doubled** array, return an empty array. The elements in* original *may be returned in **any** order*.\n",
    "\n",
    "**Example 1:**\n",
    "\n",
    "**Input:** changed = [1,3,4,2,6,8]\n",
    "\n",
    "**Output:** [1,3,4]\n",
    "\n",
    "**Explanation:** One possible original array could be [1,3,4]:\n",
    "\n",
    "- Twice the value of 1 is 1 * 2 = 2.\n",
    "- Twice the value of 3 is 3 * 2 = 6.\n",
    "- Twice the value of 4 is 4 * 2 = 8.\n",
    "\n",
    "Other original arrays could be [4,3,1] or [3,1,4].\n",
    "\n",
    "</aside>"
   ]
  },
  {
   "cell_type": "code",
   "execution_count": 23,
   "id": "57c18a0a",
   "metadata": {},
   "outputs": [
    {
     "name": "stdout",
     "output_type": "stream",
     "text": [
      "[]\n"
     ]
    }
   ],
   "source": [
    "from collections import Counter\n",
    "\n",
    "def findOriginalArray(changed):\n",
    "    originalSet = set(changed)\n",
    "    original = []\n",
    "    \n",
    "    for num in changed:\n",
    "        originalValue = num // 2\n",
    "        \n",
    "        if originalValue not in originalSet or originalSet[originalValue] == 0:\n",
    "            return []\n",
    "        \n",
    "        original.append(originalValue)\n",
    "        originalSet[originalValue] -= 1\n",
    "    \n",
    "    return original\n",
    "\n",
    "changed = [1, 3, 4, 2, 6, 8]\n",
    "original = findOriginalArray(changed)\n",
    "print(original)\n"
   ]
  },
  {
   "cell_type": "markdown",
   "id": "5c03450b",
   "metadata": {},
   "source": [
    "<aside>\n",
    "💡 **Question 7**\n",
    "\n",
    "Given a positive integer n, generate an n x n matrix filled with elements from 1 to n2 in spiral order.\n",
    "\n",
    "</aside>"
   ]
  },
  {
   "cell_type": "code",
   "execution_count": 33,
   "id": "2c0e1b45",
   "metadata": {},
   "outputs": [],
   "source": [
    "def generateMatrix(n):\n",
    "    matrix = [[0] * n for _ in range(n)]\n",
    "    current_value = 1\n",
    "    row_start, row_end = 0, n - 1\n",
    "    col_start, col_end = 0, n - 1\n",
    "    direction = \"right\"\n",
    "\n",
    "    while current_value <= n * n:\n",
    "        if direction == \"right\":\n",
    "            for i in range(col_start, col_end + 1):\n",
    "                matrix[row_start][i] = current_value\n",
    "                current_value += 1\n",
    "            row_start += 1\n",
    "            direction = \"down\"\n",
    "        elif direction == \"down\":\n",
    "            for i in range(row_start, row_end + 1):\n",
    "                matrix[i][col_end] = current_value\n",
    "                current_value += 1\n",
    "            col_end -= 1\n",
    "            direction = \"left\"\n",
    "        elif direction == \"left\":\n",
    "            for i in range(col_end, col_start - 1, -1):\n",
    "                matrix[row_end][i] = current_value\n",
    "                current_value += 1\n",
    "            row_end -= 1\n",
    "            direction = \"up\"\n",
    "        elif direction == \"up\":\n",
    "            for i in range(row_end, row_start - 1, -1):\n",
    "                matrix[i][col_start] = current_value\n",
    "                current_value += 1\n",
    "\n"
   ]
  },
  {
   "cell_type": "code",
   "execution_count": 34,
   "id": "f18d3cde",
   "metadata": {},
   "outputs": [],
   "source": [
    "n=3\n",
    "generateMatrix(n)"
   ]
  },
  {
   "cell_type": "markdown",
   "id": "faf54383",
   "metadata": {},
   "source": [
    "<aside>\n",
    "💡 **Question 8**\n",
    "\n",
    "Given two [sparse matrices](https://en.wikipedia.org/wiki/Sparse_matrix) mat1 of size m x k and mat2 of size k x n, return the result of mat1 x mat2. You may assume that multiplication is always possible.\n",
    "\n",
    "</aside>"
   ]
  },
  {
   "cell_type": "code",
   "execution_count": 51,
   "id": "fe4fb0ec",
   "metadata": {},
   "outputs": [],
   "source": [
    "class Solution:\n",
    "    def multiply(self, mat1: list[list[int]], mat2: list[list[int]]) -> list[list[int]]:\n",
    "        r1, c1, c2 = len(mat1), len(mat1[0]), len(mat2[0])\n",
    "        res = [[0] * c2 for _ in range(r1)]\n",
    "        for i in range(r1):\n",
    "            for j in range(c2):\n",
    "                for k in range(c1):\n",
    "                    res[i][j] += mat1[i][k] * mat2[k][j]\n",
    "        return res"
   ]
  },
  {
   "cell_type": "code",
   "execution_count": null,
   "id": "a23ed796",
   "metadata": {},
   "outputs": [],
   "source": []
  }
 ],
 "metadata": {
  "kernelspec": {
   "display_name": "Python 3 (ipykernel)",
   "language": "python",
   "name": "python3"
  },
  "language_info": {
   "codemirror_mode": {
    "name": "ipython",
    "version": 3
   },
   "file_extension": ".py",
   "mimetype": "text/x-python",
   "name": "python",
   "nbconvert_exporter": "python",
   "pygments_lexer": "ipython3",
   "version": "3.9.0"
  }
 },
 "nbformat": 4,
 "nbformat_minor": 5
}
