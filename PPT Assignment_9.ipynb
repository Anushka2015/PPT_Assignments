{
 "cells": [
  {
   "cell_type": "markdown",
   "id": "8c2c1f2d",
   "metadata": {},
   "source": [
    "<aside>\n",
    "💡 **Question 1**\n",
    "\n",
    "Given an integer `n`, return *`true` if it is a power of two. Otherwise, return `false`*.\n",
    "\n",
    "An integer `n` is a power of two, if there exists an integer `x` such that `n == 2x`.\n",
    "\n",
    "**Example 1:**\n",
    "Input: n = 1 \n",
    "\n",
    "Output: true\n",
    "\n",
    "**Example 2:**\n",
    "Input: n = 16 \n",
    "\n",
    "Output: true\n",
    "\n",
    "**Example 3:**\n",
    "Input: n = 3 \n",
    "\n",
    "Output: false\n",
    "\n",
    "</aside>"
   ]
  },
  {
   "cell_type": "code",
   "execution_count": 13,
   "id": "cb838732",
   "metadata": {},
   "outputs": [
    {
     "name": "stdout",
     "output_type": "stream",
     "text": [
      "16\n",
      "Power of Two : True\n"
     ]
    }
   ],
   "source": [
    "def is_power_of_two(n):\n",
    "    # Ensure n is a positive integer\n",
    "    if n <= 0:\n",
    "        return False\n",
    "\n",
    "    # Check if only one bit is set\n",
    "    return (n & (n - 1)) == 0\n",
    "\n",
    "\n",
    "n=int(input())\n",
    "result=is_power_of_two(n)\n",
    "print(\"Power of Two :\",result)"
   ]
  },
  {
   "cell_type": "markdown",
   "id": "f7d141dc",
   "metadata": {},
   "source": [
    "<aside>\n",
    "💡 **Question 2**\n",
    "\n",
    "Given a number n, find the sum of the first natural numbers.\n",
    "\n",
    "**Example 1:**\n",
    "\n",
    "Input: n = 3 \n",
    "\n",
    "Output: 6\n",
    "\n",
    "**Example 2:**\n",
    "\n",
    "Input  : 5 \n",
    "\n",
    "Output : 15\n",
    "\n",
    "</aside>"
   ]
  },
  {
   "cell_type": "code",
   "execution_count": 14,
   "id": "3b58aafd",
   "metadata": {},
   "outputs": [
    {
     "name": "stdout",
     "output_type": "stream",
     "text": [
      "Please enter the number: 5\n",
      "sum of first natural numbers : 15\n",
      "None\n"
     ]
    }
   ],
   "source": [
    "def sum_natural(n):\n",
    "    n = int(input(\"Please enter the number: \"))\n",
    "    result=0\n",
    "    for i in range(0, n + 1):\n",
    "        result=i+result\n",
    "    return(result)\n",
    "\n",
    "\n",
    "##Driven Code\n",
    "\n",
    "result=sum_natural(n)\n",
    "print(print(\"sum of first natural numbers :\",result))"
   ]
  },
  {
   "cell_type": "markdown",
   "id": "aeae876b",
   "metadata": {},
   "source": [
    "<aside>\n",
    "💡 **Question 3**\n",
    "\n",
    "****Given a positive integer, N. Find the factorial of N. \n",
    "\n",
    "**Example 1:**\n",
    "\n",
    "Input: N = 5 \n",
    "\n",
    "Output: 120\n",
    "\n",
    "**Example 2:**\n",
    "\n",
    "Input: N = 4\n",
    "\n",
    "Output: 24\n",
    "\n",
    "</aside>"
   ]
  },
  {
   "cell_type": "code",
   "execution_count": 15,
   "id": "28996d49",
   "metadata": {},
   "outputs": [
    {
     "name": "stdout",
     "output_type": "stream",
     "text": [
      "4\n",
      "The Factorial of given number is: 24\n"
     ]
    }
   ],
   "source": [
    "##Using the recursive approach\n",
    "##Define deginition\n",
    "def findFactorial(N):\n",
    "    ##base case condition\n",
    "    if N==0 or N==1:\n",
    "        return 1\n",
    "    else:\n",
    "        return N*findFactorial(N-1)\n",
    "\n",
    "\n",
    "\n",
    "##Driver Code\n",
    "N=int(input())\n",
    "result=findFactorial(N)\n",
    "print(\"The Factorial of given number is:\",result)"
   ]
  },
  {
   "cell_type": "markdown",
   "id": "60326a28",
   "metadata": {},
   "source": [
    "<aside>\n",
    "💡 **Question 4**\n",
    "\n",
    "Given a number N and a power P, the task is to find the exponent of this number raised to the given power, i.e. N^P.\n",
    "\n",
    "**Example 1 :** \n",
    "\n",
    "Input: N = 5, P = 2\n",
    "\n",
    "Output: 25\n",
    "\n",
    "**Example 2 :**\n",
    "Input: N = 2, P = 5\n",
    "\n",
    "Output: 32\n",
    "\n",
    "</aside>"
   ]
  },
  {
   "cell_type": "code",
   "execution_count": 16,
   "id": "ebabbefa",
   "metadata": {},
   "outputs": [
    {
     "name": "stdout",
     "output_type": "stream",
     "text": [
      "2\n",
      "5\n",
      "exponent of this number: 32\n"
     ]
    }
   ],
   "source": [
    "def find_expo(N,P):\n",
    "    exp=N**P\n",
    "    return(exp)\n",
    "\n",
    "\n",
    "N=int(input())\n",
    "P=int(input())\n",
    "result=find_expo(N,P)\n",
    "print(\"exponent of this number:\",result)"
   ]
  },
  {
   "cell_type": "markdown",
   "id": "fafe4e14",
   "metadata": {},
   "source": [
    "<aside>\n",
    "💡 **Question 5**\n",
    "\n",
    "Given an array of integers **arr**, the task is to find maximum element of that array using recursion.\n",
    "\n",
    "**Example 1:**\n",
    "\n",
    "Input: arr = {1, 4, 3, -5, -4, 8, 6};\n",
    "Output: 8\n",
    "\n",
    "**Example 2:**\n",
    "\n",
    "Input: arr = {1, 4, 45, 6, 10, -8};\n",
    "Output: 45\n",
    "\n",
    "</aside>"
   ]
  },
  {
   "cell_type": "code",
   "execution_count": 17,
   "id": "ae305442",
   "metadata": {},
   "outputs": [
    {
     "name": "stdout",
     "output_type": "stream",
     "text": [
      "max element in  array : 8\n"
     ]
    }
   ],
   "source": [
    "def max_element(a,n):\n",
    "    a=[1,4,3,-5,-4,8,6]\n",
    "    x=max(a)\n",
    "    for i in range(len(a)):\n",
    "        if a[i]==x:\n",
    "            return x\n",
    "        \n",
    "##Drive Code\n",
    "a=[1,4,3,-5,-4,8,6]\n",
    "n=len(a)\n",
    "result=max_element(a,n)\n",
    "print(\"max element in  array :\",result)"
   ]
  },
  {
   "cell_type": "markdown",
   "id": "ef456533",
   "metadata": {},
   "source": [
    "<aside>\n",
    "💡 **Question 6**\n",
    "\n",
    "Given first term (a), common difference (d) and a integer N of the Arithmetic Progression series, the task is to find Nth term of the series.\n",
    "\n",
    "**Example 1:**\n",
    "\n",
    "Input : a = 2 d = 1 N = 5\n",
    "Output : 6\n",
    "The 5th term of the series is : 6\n",
    "\n",
    "**Example 2:**\n",
    "\n",
    "Input : a = 5 d = 2 N = 10\n",
    "Output : 23\n",
    "The 10th term of the series is : 23\n",
    "\n",
    "</aside>"
   ]
  },
  {
   "cell_type": "code",
   "execution_count": 18,
   "id": "ca6e6435",
   "metadata": {},
   "outputs": [
    {
     "name": "stdout",
     "output_type": "stream",
     "text": [
      "5\n",
      "2\n",
      "10\n",
      "The  10 th term of the series is :  23\n"
     ]
    }
   ],
   "source": [
    "##TN = a1 + (N-1) * d\n",
    "def Nth_of_AP(a, d, N) :\n",
    " \n",
    "    # using formula to find the\n",
    "    # Nth term t(n) = a(1) + (n-1)*d\n",
    "    return (a + (N - 1) * d)\n",
    "      \n",
    "  \n",
    "# Driver code\n",
    "a = int(input())  # starting number\n",
    "d = int(input())  # Common difference\n",
    "N = int(input()) # N th term to be find\n",
    "  \n",
    "# Display the output\n",
    "print( \"The \", N ,\"th term of the series is : \",\n",
    "       Nth_of_AP(a, d, N))\n",
    " "
   ]
  },
  {
   "cell_type": "markdown",
   "id": "580f8f42",
   "metadata": {},
   "source": [
    "<aside>\n",
    "💡 **Question 7**\n",
    "\n",
    "Given a string S, the task is to write a program to print all permutations of a given string.\n",
    "\n",
    "**Example 1:**\n",
    "\n",
    "***Input:***\n",
    "\n",
    "*S = “ABC”*\n",
    "\n",
    "***Output:***\n",
    "\n",
    "*“ABC”, “ACB”, “BAC”, “BCA”, “CBA”, “CAB”*\n",
    "\n",
    "**Example 2:**\n",
    "\n",
    "***Input:***\n",
    "\n",
    "*S = “XY”*\n",
    "\n",
    "***Output:***\n",
    "\n",
    "*“XY”, “YX”*\n",
    "\n",
    "</aside>"
   ]
  },
  {
   "cell_type": "code",
   "execution_count": 19,
   "id": "9b932cba",
   "metadata": {},
   "outputs": [
    {
     "name": "stdout",
     "output_type": "stream",
     "text": [
      "Enter the string : ABC\n",
      "All possible strings are : \n",
      "ABC  ACB  BAC  BCA  CAB  CBA  "
     ]
    }
   ],
   "source": [
    "# Python program to implement\n",
    "# the above approach\n",
    "def permute(s, answer):\n",
    "    if (len(s) == 0):\n",
    "        print(answer, end = \"  \")\n",
    "        return\n",
    "     \n",
    "    for i in range(len(s)):\n",
    "        ch = s[i]\n",
    "        left_substr = s[0:i]\n",
    "        right_substr = s[i + 1:]\n",
    "        rest = left_substr + right_substr\n",
    "        permute(rest, answer + ch)\n",
    " \n",
    "# Driver Code\n",
    "answer = \"\"\n",
    "s = input(\"Enter the string : \")\n",
    "print(\"All possible strings are : \")\n",
    "permute(s, answer)"
   ]
  },
  {
   "cell_type": "markdown",
   "id": "c74940ea",
   "metadata": {},
   "source": [
    "<aside>\n",
    "💡 **Question 8**\n",
    "\n",
    "Given an array, find a product of all array elements.\n",
    "\n",
    "**Example 1:**\n",
    "\n",
    "Input  : arr[] = {1, 2, 3, 4, 5}\n",
    "Output : 120\n",
    "**Example 2:**\n",
    "\n",
    "Input  : arr[] = {1, 6, 3}\n",
    "Output : 18\n",
    "\n",
    "</aside>"
   ]
  },
  {
   "cell_type": "code",
   "execution_count": 20,
   "id": "6f892b45",
   "metadata": {},
   "outputs": [
    {
     "name": "stdout",
     "output_type": "stream",
     "text": [
      "Prouct of all array elements: 120\n"
     ]
    }
   ],
   "source": [
    "def find_product(l,n):\n",
    "    l=[1,2,3,4,5]\n",
    "    result=1\n",
    "    for i in range(len(l)):\n",
    "        result=result*(l[i])\n",
    "    return result\n",
    "\n",
    "\n",
    "\n",
    "##Drive Code\n",
    "l=[1,2,3,4,5]\n",
    "n=len(l)\n",
    "result=find_product(l,n)\n",
    "print(\"Prouct of all array elements:\",result)"
   ]
  },
  {
   "cell_type": "code",
   "execution_count": 21,
   "id": "328bd5af",
   "metadata": {},
   "outputs": [
    {
     "name": "stdout",
     "output_type": "stream",
     "text": [
      "Prouct of all array elements: 18\n"
     ]
    }
   ],
   "source": [
    "def find_product(l1,n):\n",
    "    l1=[1,6,3]\n",
    "    result=1\n",
    "    for i in range(len(l1)):\n",
    "        result=result*(l1[i])\n",
    "    return result\n",
    "\n",
    "\n",
    "\n",
    "##Drive Code\n",
    "l1=[1,6,3]\n",
    "n=len(l1)\n",
    "result=find_product(l1,n)\n",
    "print(\"Prouct of all array elements:\",result)"
   ]
  },
  {
   "cell_type": "code",
   "execution_count": null,
   "id": "36b43bb1",
   "metadata": {},
   "outputs": [],
   "source": []
  }
 ],
 "metadata": {
  "kernelspec": {
   "display_name": "Python 3 (ipykernel)",
   "language": "python",
   "name": "python3"
  },
  "language_info": {
   "codemirror_mode": {
    "name": "ipython",
    "version": 3
   },
   "file_extension": ".py",
   "mimetype": "text/x-python",
   "name": "python",
   "nbconvert_exporter": "python",
   "pygments_lexer": "ipython3",
   "version": "3.9.0"
  }
 },
 "nbformat": 4,
 "nbformat_minor": 5
}
