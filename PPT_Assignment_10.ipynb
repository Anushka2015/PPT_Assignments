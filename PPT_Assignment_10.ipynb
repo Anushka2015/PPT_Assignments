{
 "cells": [
  {
   "cell_type": "markdown",
   "id": "2348607d",
   "metadata": {},
   "source": [
    "<aside>\n",
    "💡 **Question 1**\n",
    "\n",
    "Given an integer `n`, return *`true` if it is a power of three. Otherwise, return `false`*.\n",
    "\n",
    "An integer `n` is a power of three, if there exists an integer `x` such that `n == 3x`.\n",
    "\n",
    "</aside>\n",
    "# appending ascii values sum to the resultant list"
   ]
  },
  {
   "cell_type": "code",
   "execution_count": 11,
   "id": "c0a50782",
   "metadata": {},
   "outputs": [
    {
     "name": "stdout",
     "output_type": "stream",
     "text": [
      "27\n",
      "number is power of three : True\n"
     ]
    }
   ],
   "source": [
    "import math\n",
    "\n",
    "def isPowerOfThree(n):\n",
    "    if n <= 0:\n",
    "        return False\n",
    "    else:\n",
    "        x = math.log10(n) / math.log10(3)\n",
    "        return x.is_integer()\n",
    "\n",
    "n=int(input())\n",
    "result=isPowerOfThree(n)\n",
    "print(\"number is power of three :\",result)"
   ]
  },
  {
   "cell_type": "markdown",
   "id": "842a9ade",
   "metadata": {},
   "source": [
    "<aside>\n",
    "💡 **Question 3**\n",
    "\n",
    "****Given a set represented as a string, write a recursive code to print all subsets of it. The subsets can be printed in any order.\n",
    "\n",
    "**Example 1:**\n",
    "\n",
    "Input :  set = “abc”\n",
    "\n",
    "Output : { “”, “a”, “b”, “c”, “ab”, “ac”, “bc”, “abc”}\n",
    "\n",
    "**Example 2:**\n",
    "\n",
    "Input : set = “abcd”\n",
    "\n",
    "Output : { “”, “a” ,”ab” ,”abc” ,”abcd”, “abd” ,”ac” ,”acd”, “ad” ,”b”, “bc” ,”bcd” ,”bd” ,”c” ,”cd” ,”d” }\n",
    "\n",
    "</aside>"
   ]
  },
  {
   "cell_type": "code",
   "execution_count": 13,
   "id": "304c29d2",
   "metadata": {},
   "outputs": [
    {
     "name": "stdout",
     "output_type": "stream",
     "text": [
      "['', 'c', 'b', 'bc', 'a', 'ac', 'ab', 'abc']\n",
      "['', 'd', 'c', 'cd', 'b', 'bd', 'bc', 'bcd', 'a', 'ad', 'ac', 'acd', 'ab', 'abd', 'abc', 'abcd']\n"
     ]
    }
   ],
   "source": [
    "def generateSubsets(s):\n",
    "    subsets = []\n",
    "    generateSubsetsHelper(s, '', 0, subsets)\n",
    "    return subsets\n",
    "\n",
    "def generateSubsetsHelper(s, current, index, subsets):\n",
    "    if index == len(s):\n",
    "        subsets.append(current)\n",
    "        return\n",
    "\n",
    "    generateSubsetsHelper(s, current, index + 1, subsets)\n",
    "    generateSubsetsHelper(s, current + s[index], index + 1, subsets)\n",
    "\n",
    "# Testing the function\n",
    "set1 = \"abc\"\n",
    "print(generateSubsets(set1))  # Output: ['', 'c', 'b', 'bc', 'a', 'ac', 'ab', 'abc']\n",
    "\n",
    "set2 = \"abcd\"\n",
    "print(generateSubsets(set2))  # Output: ['', 'd', 'c', 'cd', 'b', 'bd', 'bc', 'bcd', 'a', 'ad', 'ac', 'acd', 'ab', 'abd', 'abc', 'abcd']\n"
   ]
  },
  {
   "cell_type": "markdown",
   "id": "76d2da0a",
   "metadata": {},
   "source": [
    "<aside>\n",
    "💡 **Question 2**\n",
    "\n",
    "You have a list `arr` of all integers in the range `[1, n]` sorted in a strictly increasing order. Apply the following algorithm on `arr`:\n",
    "\n",
    "- Starting from left to right, remove the first number and every other number afterward until you reach the end of the list.\n",
    "- Repeat the previous step again, but this time from right to left, remove the rightmost number and every other number from the remaining numbers.\n",
    "- Keep repeating the steps again, alternating left to right and right to left, until a single number remains.\n",
    "\n",
    "Given the integer `n`, return *the last number that remains in* `arr`.\n",
    "\n",
    "</aside>"
   ]
  },
  {
   "cell_type": "code",
   "execution_count": 71,
   "id": "4a594221",
   "metadata": {},
   "outputs": [
    {
     "name": "stdout",
     "output_type": "stream",
     "text": [
      "6\n"
     ]
    }
   ],
   "source": [
    "def lastRemaining(n):\n",
    "    # Initialize the left-to-right flag and the remaining numbers count\n",
    "    left_to_right = True\n",
    "    remaining = n\n",
    "\n",
    "    # Initialize the starting number and the step size\n",
    "    start = 1\n",
    "    step = 1\n",
    "\n",
    "    while remaining > 1:\n",
    "        # If moving left to right or moving right to left and remaining count is odd\n",
    "        if left_to_right or remaining % 2 == 1:\n",
    "            start += step\n",
    "\n",
    "        # Update the step size\n",
    "        step *= 2\n",
    "\n",
    "        # Update the remaining count and toggle the left-to-right flag\n",
    "        remaining //= 2\n",
    "        left_to_right = not left_to_right\n",
    "\n",
    "    return start\n",
    "\n",
    "# Example usage:\n",
    "n = 9\n",
    "result = lastRemaining(n)\n",
    "print(result)\n"
   ]
  },
  {
   "cell_type": "markdown",
   "id": "cdfc1e43",
   "metadata": {},
   "source": [
    "<aside>\n",
    "💡 **Question 4**\n",
    "\n",
    "Given a string calculate length of the string using recursion.\n",
    "\n",
    "**Examples:**\n",
    "\n",
    "</aside>"
   ]
  },
  {
   "cell_type": "code",
   "execution_count": 30,
   "id": "d464a1e6",
   "metadata": {},
   "outputs": [],
   "source": [
    "s=\"abcd\""
   ]
  },
  {
   "cell_type": "code",
   "execution_count": 44,
   "id": "bb3818a0",
   "metadata": {},
   "outputs": [
    {
     "name": "stdout",
     "output_type": "stream",
     "text": [
      "lrngth of string is: 4\n"
     ]
    }
   ],
   "source": [
    "def findLen(s):\n",
    "    sum=0\n",
    "    for i in s:\n",
    "        sum=sum+1\n",
    "    return sum\n",
    "\n",
    "\n",
    "s = \"abcd\"\n",
    "result=findLen(s)\n",
    "print(\"lrngth of string is:\",result)"
   ]
  },
  {
   "cell_type": "markdown",
   "id": "5ab2212d",
   "metadata": {},
   "source": [
    "<aside>\n",
    "💡 **Question 5**\n",
    "\n",
    "We are given a string S, we need to find count of all contiguous substrings starting and ending with same character.\n",
    "\n",
    "**Examples :**\n",
    "\n",
    "</aside>\n",
    "Input  : S = \"abcab\"\n",
    "Output : 7\n",
    "There are 15 substrings of \"abcab\"\n",
    "a, ab, abc, abca, abcab, b, bc, bca\n",
    "bcab, c, ca, cab, a, ab, b\n",
    "Out of the above substrings, there\n",
    "are 7 substrings : a, abca, b, bcab,\n",
    "c, a and b.\n",
    "\n",
    "Input  : S = \"aba\"\n",
    "Output : 4\n",
    "The substrings are a, b, a and aba"
   ]
  },
  {
   "cell_type": "code",
   "execution_count": 50,
   "id": "b76f443e",
   "metadata": {},
   "outputs": [
    {
     "name": "stdout",
     "output_type": "stream",
     "text": [
      "7\n"
     ]
    }
   ],
   "source": [
    "def countSubstringWithEqualEnds(s):\n",
    " \n",
    "    result = 0;\n",
    "    n = len(s);\n",
    " \n",
    "    # Iterating through all substrings in\n",
    "    # way so that we can find first and\n",
    "    # last character easily\n",
    "    for i in range(n):\n",
    "        for j in range(i, n):\n",
    "            if (s[i] == s[j]):\n",
    "                result = result + 1\n",
    " \n",
    "    return result\n",
    " \n",
    "# Driver Code\n",
    "s = \"abcab\";\n",
    "print(countSubstringWithEqualEnds(s))"
   ]
  },
  {
   "cell_type": "markdown",
   "id": "503e8ab6",
   "metadata": {},
   "source": [
    "<aside>\n",
    "💡 **Question 6**\n",
    "\n",
    "The [tower of Hanoi](https://en.wikipedia.org/wiki/Tower_of_Hanoi) is a famous puzzle where we have three rods and **N** disks. The objective of the puzzle is to move the entire stack to another rod. You are given the number of discs **N**. Initially, these discs are in the rod 1. You need to print all the steps of discs movement so that all the discs reach the 3rd rod. Also, you need to find the total moves.**Note:** The discs are arranged such that the **top disc is numbered 1** and the **bottom-most disc is numbered N**. Also, all the discs have **different sizes** and a bigger disc **cannot** be put on the top of a smaller disc. Refer the provided link to get a better clarity about the puzzle.\n",
    "\n",
    "</aside>"
   ]
  },
  {
   "cell_type": "code",
   "execution_count": 69,
   "id": "1b47249b",
   "metadata": {},
   "outputs": [
    {
     "name": "stdout",
     "output_type": "stream",
     "text": [
      "Move disk 1 from rod A to rod B\n",
      "Move disk 2 from rod A to rod C\n",
      "Move disk 1 from rod B to rod C\n"
     ]
    }
   ],
   "source": [
    "def TowerOfHanoi(n, from_rod, to_rod, aux_rod):\n",
    "    if n == 0:\n",
    "        return\n",
    "    TowerOfHanoi(n-1, from_rod, aux_rod, to_rod)\n",
    "    print(\"Move disk\", n, \"from rod\", from_rod, \"to rod\", to_rod)\n",
    "    TowerOfHanoi(n-1, aux_rod, to_rod, from_rod)\n",
    "  \n",
    "  \n",
    "# Driver code\n",
    "N = 2\n",
    "  \n",
    "# A, C, B are the name of rods\n",
    "TowerOfHanoi(N, 'A', 'C', 'B')"
   ]
  },
  {
   "cell_type": "markdown",
   "id": "f8703581",
   "metadata": {},
   "source": [
    "<aside>\n",
    "💡 **Question 7**\n",
    "\n",
    "Given a string **str**, the task is to print all the permutations of **str**. A **permutation** is an arrangement of all or part of a set of objects, with regard to the order of the arrangement. For instance, the words ‘bat’ and ‘tab’ represents two distinct permutation (or arrangements) of a similar three letter word.\n",
    "\n",
    "</aside>"
   ]
  },
  {
   "cell_type": "code",
   "execution_count": 70,
   "id": "f39bf67f",
   "metadata": {},
   "outputs": [
    {
     "name": "stdout",
     "output_type": "stream",
     "text": [
      "['abc', 'acb', 'bac', 'bca', 'cab', 'cba']\n"
     ]
    }
   ],
   "source": [
    "def permutations(string):\n",
    "    # Base case: If the string is empty, there are no permutations\n",
    "    if len(string) == 0:\n",
    "        return []\n",
    "\n",
    "    # Base case: If the string has only one character, there is only one permutation\n",
    "    if len(string) == 1:\n",
    "        return [string]\n",
    "\n",
    "    # List to store all permutations\n",
    "    perms = []\n",
    "\n",
    "    # Iterate through each character in the string\n",
    "    for i in range(len(string)):\n",
    "        # Extract the current character\n",
    "        current = string[i]\n",
    "\n",
    "        # Generate all permutations of the remaining characters\n",
    "        remaining = string[:i] + string[i+1:]\n",
    "        subperms = permutations(remaining)\n",
    "\n",
    "        # Append the current character to each permutation of the remaining characters\n",
    "        for subperm in subperms:\n",
    "            perms.append(current + subperm)\n",
    "\n",
    "    return perms\n",
    "\n",
    "# Example usage:\n",
    "str = \"abc\"\n",
    "result = permutations(str)\n",
    "print(result)\n"
   ]
  },
  {
   "cell_type": "markdown",
   "id": "a6c62064",
   "metadata": {},
   "source": [
    " Que 8 Given a string, count total number of consonants in it. A consonant is an English alphabet character that is not vowel (a, e, i, o and u). Examples of constants are b, c, d, f, and g."
   ]
  },
  {
   "cell_type": "code",
   "execution_count": 67,
   "id": "603d4ec4",
   "metadata": {},
   "outputs": [
    {
     "name": "stdout",
     "output_type": "stream",
     "text": [
      "3\n"
     ]
    }
   ],
   "source": [
    "def isConsonant(char):\n",
    "      \n",
    "    # To handle lower case\n",
    "    char = char.upper()\n",
    "  \n",
    "    return not (char == 'A' or char == 'E' or \n",
    "                char == 'I' or char == 'O' or \n",
    "                char == 'U') and ord(char) >= 65 and ord(char) <= 90\n",
    "  \n",
    "def totalConsonants(string):\n",
    "      \n",
    "    count = 0\n",
    "      \n",
    "    for i in range(len(string)):\n",
    "  \n",
    "        # To check is character is Consonant\n",
    "        if (isConsonant(string[i])):\n",
    "            count += 1\n",
    "              \n",
    "    return count\n",
    "  \n",
    "# Driver code\n",
    "string = \"abc de\"\n",
    "print(totalConsonants(string))\n",
    "  \n"
   ]
  },
  {
   "cell_type": "code",
   "execution_count": null,
   "id": "22e08666",
   "metadata": {},
   "outputs": [],
   "source": []
  }
 ],
 "metadata": {
  "kernelspec": {
   "display_name": "Python 3 (ipykernel)",
   "language": "python",
   "name": "python3"
  },
  "language_info": {
   "codemirror_mode": {
    "name": "ipython",
    "version": 3
   },
   "file_extension": ".py",
   "mimetype": "text/x-python",
   "name": "python",
   "nbconvert_exporter": "python",
   "pygments_lexer": "ipython3",
   "version": "3.9.0"
  }
 },
 "nbformat": 4,
 "nbformat_minor": 5
}
