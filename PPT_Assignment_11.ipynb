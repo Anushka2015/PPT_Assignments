{
 "cells": [
  {
   "cell_type": "markdown",
   "id": "2f118d7a",
   "metadata": {},
   "source": [
    "<aside>\n",
    "💡 **Question 1**\n",
    "\n",
    "Given a non-negative integer `x`, return *the square root of* `x` *rounded down to the nearest integer*. The returned integer should be **non-negative** as well.\n",
    "\n",
    "You **must not use** any built-in exponent function or operator.\n",
    "\n",
    "- For example, do not use `pow(x, 0.5)` in c++ or `x ** 0.5` in python.\n",
    "</aside>"
   ]
  },
  {
   "cell_type": "code",
   "execution_count": 1,
   "id": "ea944cc5",
   "metadata": {},
   "outputs": [
    {
     "name": "stdout",
     "output_type": "stream",
     "text": [
      "4\n"
     ]
    }
   ],
   "source": [
    "def mySqrt(x):\n",
    "    if x == 0:\n",
    "        return 0\n",
    "\n",
    "    left = 1\n",
    "    right = x\n",
    "\n",
    "    while left <= right:\n",
    "        mid = left + (right - left) // 2\n",
    "        square = mid * mid\n",
    "\n",
    "        if square == x:\n",
    "            return mid\n",
    "        elif square < x:\n",
    "            left = mid + 1\n",
    "        else:\n",
    "            right = mid - 1\n",
    "\n",
    "    return right\n",
    "\n",
    "# Example usage:\n",
    "x = 16\n",
    "result = mySqrt(x)\n",
    "print(result)\n"
   ]
  },
  {
   "cell_type": "markdown",
   "id": "d322039d",
   "metadata": {},
   "source": [
    "<aside>\n",
    "💡 **Question 2**\n",
    "\n",
    "A peak element is an element that is strictly greater than its neighbors.\n",
    "\n",
    "Given a **0-indexed** integer array `nums`, find a peak element, and return its index. If the array contains multiple peaks, return the index to **any of the peaks**.\n",
    "\n",
    "You may imagine that `nums[-1] = nums[n] = -∞`. In other words, an element is always considered to be strictly greater than a neighbor that is outside the array.\n",
    "\n",
    "You must write an algorithm that runs in `O(log n)` time.\n",
    "\n",
    "</aside>"
   ]
  },
  {
   "cell_type": "code",
   "execution_count": 2,
   "id": "9399efc2",
   "metadata": {},
   "outputs": [],
   "source": [
    "def find_peak(nums):\n",
    "    left = 0\n",
    "    right = len(nums) - 1\n",
    "\n",
    "    while left <= right:\n",
    "        mid = left + (right - left) // 2\n",
    "\n",
    "        if (mid == 0 or nums[mid] > nums[mid - 1]) and (mid == len(nums) - 1 or nums[mid] > nums[mid + 1]):\n",
    "            return mid\n",
    "        elif mid < len(nums) - 1 and nums[mid] < nums[mid + 1]:\n",
    "            left = mid + 1\n",
    "        else:\n",
    "            right = mid - 1\n",
    "\n",
    "    return -1\n"
   ]
  },
  {
   "cell_type": "code",
   "execution_count": 6,
   "id": "c998afb1",
   "metadata": {},
   "outputs": [
    {
     "data": {
      "text/plain": [
       "2"
      ]
     },
     "execution_count": 6,
     "metadata": {},
     "output_type": "execute_result"
    }
   ],
   "source": [
    "find_peak([1,2,3,1])"
   ]
  },
  {
   "cell_type": "markdown",
   "id": "7d77a8f9",
   "metadata": {},
   "source": [
    "<aside>\n",
    "💡 **Question 3**\n",
    "\n",
    "****\n",
    "\n",
    "Given an array `nums` containing `n` distinct numbers in the range `[0, n]`, return *the only number in the range that is missing from the array.*\n",
    "\n",
    "</aside>"
   ]
  },
  {
   "cell_type": "code",
   "execution_count": 7,
   "id": "cf52a92e",
   "metadata": {},
   "outputs": [],
   "source": [
    "def find_missing_number(nums):\n",
    "    n = len(nums)\n",
    "    missing = n\n",
    "\n",
    "    for i, num in enumerate(nums):\n",
    "        missing ^= i ^ num\n",
    "\n",
    "    return missing\n"
   ]
  },
  {
   "cell_type": "code",
   "execution_count": 8,
   "id": "a52cabde",
   "metadata": {},
   "outputs": [
    {
     "data": {
      "text/plain": [
       "2"
      ]
     },
     "execution_count": 8,
     "metadata": {},
     "output_type": "execute_result"
    }
   ],
   "source": [
    "find_missing_number([3,0,1])"
   ]
  },
  {
   "cell_type": "markdown",
   "id": "8075b481",
   "metadata": {},
   "source": [
    "Que 4 Given an array of integers `nums` containing `n + 1` integers where each integer is in the range `[1, n]` inclusive.\n",
    "\n",
    "There is only **one repeated number** in `nums`, return *this repeated number*.\n",
    "\n",
    "You must solve the problem **without** modifying the array `nums` and uses only constant extra space"
   ]
  },
  {
   "cell_type": "code",
   "execution_count": 11,
   "id": "ac1a866f",
   "metadata": {},
   "outputs": [
    {
     "name": "stdout",
     "output_type": "stream",
     "text": [
      "The repeating elements are : \n",
      "2  \n"
     ]
    }
   ],
   "source": [
    "numRay = [1,3,4,2,2]\n",
    "arr_size = len(numRay)\n",
    "for i in range(arr_size):\n",
    "  \n",
    "    x = numRay[i] % arr_size\n",
    "    numRay[x] = numRay[x] + arr_size\n",
    "  \n",
    "print(\"The repeating elements are : \")\n",
    "for i in range(arr_size):\n",
    "    if (numRay[i] >= arr_size*2):\n",
    "        print(i, \" \")"
   ]
  },
  {
   "cell_type": "markdown",
   "id": "b3944916",
   "metadata": {},
   "source": [
    " **Question 5**\n",
    "\n",
    "Given two integer arrays `nums1` and `nums2`, return *an array of their intersection*. Each element in the result must be **unique** and you may return the result in **any order**.\n"
   ]
  },
  {
   "cell_type": "code",
   "execution_count": 13,
   "id": "f5a9b5e3",
   "metadata": {},
   "outputs": [
    {
     "name": "stdout",
     "output_type": "stream",
     "text": [
      "[2, 2]\n"
     ]
    }
   ],
   "source": [
    "def intersection(nums1, nums2):\n",
    "    set1 = set(nums1)  # Create a set from nums1 to store unique elements\n",
    "    result = []\n",
    "    \n",
    "    for num in nums2:  # Iterate through nums2\n",
    "        if num in set1:  # If the element is in set1 (common element)\n",
    "            result.append(num)  # Add it to the result\n",
    "    \n",
    "    return result\n",
    "\n",
    "\n",
    "nums1 = [1,2,2,1]\n",
    "nums2 = [2, 2]\n",
    "print(intersection(nums1, nums2))  "
   ]
  },
  {
   "cell_type": "code",
   "execution_count": 14,
   "id": "47f5980a",
   "metadata": {},
   "outputs": [
    {
     "name": "stdout",
     "output_type": "stream",
     "text": [
      "[9, 4, 9, 4]\n"
     ]
    }
   ],
   "source": [
    "def intersection(nums1, nums2):\n",
    "    set1 = set(nums1)  # Create a set from nums1 to store unique elements\n",
    "    result = []\n",
    "    \n",
    "    for num in nums2:  # Iterate through nums2\n",
    "        if num in set1:  # If the element is in set1 (common element)\n",
    "            result.append(num)  # Add it to the result\n",
    "    \n",
    "    return result\n",
    "\n",
    "\n",
    "\n",
    "nums1 = [4,9,5] \n",
    "nums2 = [9,4,9,8,4]\n",
    "print(intersection(nums1, nums2)) "
   ]
  },
  {
   "cell_type": "markdown",
   "id": "a61aa2ec",
   "metadata": {},
   "source": [
    "<aside>\n",
    "💡 **Question 6**\n",
    "\n",
    "Suppose an array of length `n` sorted in ascending order is **rotated** between `1` and `n` times. For example, the array `nums = [0,1,2,4,5,6,7]` might become:\n",
    "\n",
    "- `[4,5,6,7,0,1,2]` if it was rotated `4` times.\n",
    "- `[0,1,2,4,5,6,7]` if it was rotated `7` times.\n",
    "\n",
    "Notice that **rotating** an array `[a[0], a[1], a[2], ..., a[n-1]]` 1 time results in the array `[a[n-1], a[0], a[1], a[2], ..., a[n-2]]`.\n",
    "\n",
    "Given the sorted rotated array `nums` of **unique** elements, return *the minimum element of this array*.\n",
    "\n",
    "You must write an algorithm that runs in `O(log n) time.`\n",
    "\n",
    "</aside>"
   ]
  },
  {
   "cell_type": "code",
   "execution_count": 15,
   "id": "c9015f2e",
   "metadata": {},
   "outputs": [],
   "source": [
    "def findMin(nums):\n",
    "    left = 0\n",
    "    right = len(nums) - 1\n",
    "\n",
    "    while left < right:\n",
    "        mid = (left + right) // 2\n",
    "\n",
    "        if nums[mid] > nums[right]:\n",
    "            left = mid + 1\n",
    "        else:\n",
    "            right = mid\n",
    "\n",
    "    return nums[left]\n"
   ]
  },
  {
   "cell_type": "code",
   "execution_count": 16,
   "id": "4f01b219",
   "metadata": {},
   "outputs": [
    {
     "name": "stdout",
     "output_type": "stream",
     "text": [
      "1\n"
     ]
    }
   ],
   "source": [
    "nums = [3,4,5,1,2]\n",
    "print(findMin(nums))  \n"
   ]
  },
  {
   "cell_type": "markdown",
   "id": "9131d0aa",
   "metadata": {},
   "source": [
    "<aside>\n",
    "💡 **Question 7**\n",
    "\n",
    "Given an array of integers `nums` sorted in non-decreasing order, find the starting and ending position of a given `target` value.\n",
    "\n",
    "If `target` is not found in the array, return `[-1, -1]`.\n",
    "\n",
    "You must write an algorithm with `O(log n)` runtime complexity.\n",
    "\n",
    "</aside>"
   ]
  },
  {
   "cell_type": "code",
   "execution_count": 17,
   "id": "08ecbbb6",
   "metadata": {},
   "outputs": [],
   "source": [
    "def searchRange(nums, target):\n",
    "    def findPosition(nums, target, isLeft):\n",
    "        left = 0\n",
    "        right = len(nums) - 1\n",
    "        position = -1\n",
    "\n",
    "        while left <= right:\n",
    "            mid = left + (right - left) // 2\n",
    "\n",
    "            if nums[mid] == target:\n",
    "                position = mid\n",
    "                if isLeft:\n",
    "                    right = mid - 1\n",
    "                else:\n",
    "                    left = mid + 1\n",
    "            elif nums[mid] < target:\n",
    "                left = mid + 1\n",
    "            else:\n",
    "                right = mid - 1\n",
    "\n",
    "        return position\n",
    "\n",
    "    start = findPosition(nums, target, True)\n",
    "    if start == -1:\n",
    "        return [-1, -1]\n",
    "\n",
    "    end = findPosition(nums, target, False)\n",
    "    return [start, end]\n"
   ]
  },
  {
   "cell_type": "code",
   "execution_count": 18,
   "id": "3c3484df",
   "metadata": {},
   "outputs": [
    {
     "data": {
      "text/plain": [
       "[3, 4]"
      ]
     },
     "execution_count": 18,
     "metadata": {},
     "output_type": "execute_result"
    }
   ],
   "source": [
    "nums = [5,7,7,8,8,10]\n",
    "target = 8\n",
    "searchRange(nums, target)\n"
   ]
  },
  {
   "cell_type": "markdown",
   "id": "f7ae4939",
   "metadata": {},
   "source": [
    "que 8 Given two integer arrays nums1 and nums2, return an array of their intersection. Each element in the result must appear as many times as it shows in both arrays and you may return the result in any order."
   ]
  },
  {
   "cell_type": "code",
   "execution_count": 19,
   "id": "b0de656b",
   "metadata": {},
   "outputs": [],
   "source": [
    "def intersect(nums1, nums2):\n",
    "    dict1 = {}\n",
    "    dict2 = {}\n",
    "\n",
    "    # Populate dict1 with the frequency of elements in nums1\n",
    "    for num in nums1:\n",
    "        dict1[num] = dict1.get(num, 0) + 1\n",
    "\n",
    "    # Populate dict2 with the frequency of elements in nums2\n",
    "    for num in nums2:\n",
    "        dict2[num] = dict2.get(num, 0) + 1\n",
    "\n",
    "    intersection = []\n",
    "\n",
    "    # Find the intersecting elements and add them to the intersection list\n",
    "    for key in dict1:\n",
    "        if key in dict2:\n",
    "            frequency = min(dict1[key], dict2[key])\n",
    "            intersection.extend([key] * frequency)\n",
    "\n",
    "    return intersection\n"
   ]
  },
  {
   "cell_type": "code",
   "execution_count": 20,
   "id": "29dec0d2",
   "metadata": {},
   "outputs": [
    {
     "data": {
      "text/plain": [
       "[4, 9]"
      ]
     },
     "execution_count": 20,
     "metadata": {},
     "output_type": "execute_result"
    }
   ],
   "source": [
    "nums1 = [4,9,5]\n",
    "nums2 = [9,4,9,8,4]\n",
    "\n",
    "intersect(nums1, nums2)"
   ]
  },
  {
   "cell_type": "code",
   "execution_count": null,
   "id": "9ec79740",
   "metadata": {},
   "outputs": [],
   "source": []
  }
 ],
 "metadata": {
  "kernelspec": {
   "display_name": "Python 3 (ipykernel)",
   "language": "python",
   "name": "python3"
  },
  "language_info": {
   "codemirror_mode": {
    "name": "ipython",
    "version": 3
   },
   "file_extension": ".py",
   "mimetype": "text/x-python",
   "name": "python",
   "nbconvert_exporter": "python",
   "pygments_lexer": "ipython3",
   "version": "3.9.0"
  }
 },
 "nbformat": 4,
 "nbformat_minor": 5
}
